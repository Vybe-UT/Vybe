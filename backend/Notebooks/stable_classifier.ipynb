{
 "cells": [
  {
   "cell_type": "code",
   "execution_count": null,
   "id": "cb5ae002",
   "metadata": {},
   "outputs": [],
   "source": [
    "!pip install tensorflow\n",
    "!pip install keras"
   ]
  },
  {
   "cell_type": "code",
   "execution_count": 2,
   "id": "1e5ac80d",
   "metadata": {},
   "outputs": [
    {
     "name": "stdout",
     "output_type": "stream",
     "text": [
      "Requirement already satisfied: spotipy in /home/ec2-user/anaconda3/envs/python3/lib/python3.6/site-packages (2.19.0)\n",
      "Requirement already satisfied: urllib3>=1.26.0 in /home/ec2-user/anaconda3/envs/python3/lib/python3.6/site-packages (from spotipy) (1.26.6)\n",
      "Requirement already satisfied: six>=1.15.0 in /home/ec2-user/anaconda3/envs/python3/lib/python3.6/site-packages (from spotipy) (1.15.0)\n",
      "Requirement already satisfied: requests>=2.25.0 in /home/ec2-user/anaconda3/envs/python3/lib/python3.6/site-packages (from spotipy) (2.26.0)\n",
      "Requirement already satisfied: idna<4,>=2.5 in /home/ec2-user/anaconda3/envs/python3/lib/python3.6/site-packages (from requests>=2.25.0->spotipy) (3.1)\n",
      "Requirement already satisfied: certifi>=2017.4.17 in /home/ec2-user/anaconda3/envs/python3/lib/python3.6/site-packages (from requests>=2.25.0->spotipy) (2021.5.30)\n",
      "Requirement already satisfied: charset-normalizer~=2.0.0 in /home/ec2-user/anaconda3/envs/python3/lib/python3.6/site-packages (from requests>=2.25.0->spotipy) (2.0.6)\n"
     ]
    }
   ],
   "source": [
    "!pip install spotipy"
   ]
  },
  {
   "cell_type": "code",
   "execution_count": 20,
   "id": "c44733e4",
   "metadata": {},
   "outputs": [
    {
     "name": "stdout",
     "output_type": "stream",
     "text": [
      "Requirement already satisfied: requests in /home/ec2-user/anaconda3/envs/python3/lib/python3.6/site-packages (2.26.0)\r\n",
      "Requirement already satisfied: idna<4,>=2.5 in /home/ec2-user/anaconda3/envs/python3/lib/python3.6/site-packages (from requests) (3.1)\r\n",
      "Requirement already satisfied: urllib3<1.27,>=1.21.1 in /home/ec2-user/anaconda3/envs/python3/lib/python3.6/site-packages (from requests) (1.26.6)\r\n",
      "Requirement already satisfied: certifi>=2017.4.17 in /home/ec2-user/anaconda3/envs/python3/lib/python3.6/site-packages (from requests) (2021.5.30)\r\n",
      "Requirement already satisfied: charset-normalizer~=2.0.0 in /home/ec2-user/anaconda3/envs/python3/lib/python3.6/site-packages (from requests) (2.0.6)\r\n"
     ]
    }
   ],
   "source": [
    "!pip install requests"
   ]
  },
  {
   "cell_type": "code",
   "execution_count": 1,
   "id": "aa191934",
   "metadata": {},
   "outputs": [],
   "source": [
    "import numpy as np \n",
    "import pandas as pd \n",
    "import matplotlib.pyplot as plt\n",
    "import seaborn as sns\n",
    "\n",
    "#Libraries to create the multiclass model\n",
    "import keras\n",
    "from keras.models import Sequential\n",
    "from keras.layers import Dense\n",
    "from keras.wrappers.scikit_learn import KerasClassifier\n",
    "from keras.utils import np_utils\n",
    "#Import tensorflow and disable the v2 behavior and eager mode\n",
    "import tensorflow as tf\n",
    "#tf.compat.v1.disable_eager_execution()\n",
    "#tf.compat.v1.disable_v2_behavior()\n",
    "\n",
    "#Library to validate the model\n",
    "from sklearn.model_selection import cross_val_score, KFold, train_test_split\n",
    "from sklearn.preprocessing import LabelEncoder,MinMaxScaler\n",
    "from sklearn.pipeline import Pipeline\n",
    "from sklearn.metrics import confusion_matrix, accuracy_score"
   ]
  },
  {
   "cell_type": "code",
   "execution_count": 2,
   "id": "b092151d",
   "metadata": {},
   "outputs": [],
   "source": [
    "import spotipy\n",
    "import time\n",
    "from IPython.core.display import clear_output\n",
    "from spotipy import SpotifyClientCredentials, util\n",
    "\n",
    "import requests"
   ]
  },
  {
   "cell_type": "code",
   "execution_count": 3,
   "id": "4b1fe8ac",
   "metadata": {},
   "outputs": [
    {
     "data": {
      "text/html": [
       "<div>\n",
       "<style scoped>\n",
       "    .dataframe tbody tr th:only-of-type {\n",
       "        vertical-align: middle;\n",
       "    }\n",
       "\n",
       "    .dataframe tbody tr th {\n",
       "        vertical-align: top;\n",
       "    }\n",
       "\n",
       "    .dataframe thead th {\n",
       "        text-align: right;\n",
       "    }\n",
       "</style>\n",
       "<table border=\"1\" class=\"dataframe\">\n",
       "  <thead>\n",
       "    <tr style=\"text-align: right;\">\n",
       "      <th></th>\n",
       "      <th>name</th>\n",
       "      <th>album</th>\n",
       "      <th>artist</th>\n",
       "      <th>id</th>\n",
       "      <th>release_date</th>\n",
       "      <th>popularity</th>\n",
       "      <th>length</th>\n",
       "      <th>danceability</th>\n",
       "      <th>acousticness</th>\n",
       "      <th>energy</th>\n",
       "      <th>instrumentalness</th>\n",
       "      <th>liveness</th>\n",
       "      <th>valence</th>\n",
       "      <th>loudness</th>\n",
       "      <th>speechiness</th>\n",
       "      <th>tempo</th>\n",
       "      <th>key</th>\n",
       "      <th>time_signature</th>\n",
       "      <th>mood</th>\n",
       "    </tr>\n",
       "  </thead>\n",
       "  <tbody>\n",
       "    <tr>\n",
       "      <th>0</th>\n",
       "      <td>1999</td>\n",
       "      <td>1999</td>\n",
       "      <td>Prince</td>\n",
       "      <td>2H7PHVdQ3mXqEHXcvclTB0</td>\n",
       "      <td>1982-10-27</td>\n",
       "      <td>68</td>\n",
       "      <td>379266</td>\n",
       "      <td>0.866</td>\n",
       "      <td>0.137000</td>\n",
       "      <td>0.7300</td>\n",
       "      <td>0.000000</td>\n",
       "      <td>0.0843</td>\n",
       "      <td>0.625</td>\n",
       "      <td>-8.201</td>\n",
       "      <td>0.0767</td>\n",
       "      <td>118.523</td>\n",
       "      <td>5</td>\n",
       "      <td>4</td>\n",
       "      <td>Happy</td>\n",
       "    </tr>\n",
       "    <tr>\n",
       "      <th>1</th>\n",
       "      <td>23</td>\n",
       "      <td>23</td>\n",
       "      <td>Blonde Redhead</td>\n",
       "      <td>4HIwL9ii9CcXpTOTzMq0MP</td>\n",
       "      <td>2007-04-16</td>\n",
       "      <td>43</td>\n",
       "      <td>318800</td>\n",
       "      <td>0.381</td>\n",
       "      <td>0.018900</td>\n",
       "      <td>0.8320</td>\n",
       "      <td>0.196000</td>\n",
       "      <td>0.1530</td>\n",
       "      <td>0.166</td>\n",
       "      <td>-5.069</td>\n",
       "      <td>0.0492</td>\n",
       "      <td>120.255</td>\n",
       "      <td>8</td>\n",
       "      <td>4</td>\n",
       "      <td>Sad</td>\n",
       "    </tr>\n",
       "    <tr>\n",
       "      <th>2</th>\n",
       "      <td>9 Crimes</td>\n",
       "      <td>9</td>\n",
       "      <td>Damien Rice</td>\n",
       "      <td>5GZEeowhvSieFDiR8fQ2im</td>\n",
       "      <td>2006-11-06</td>\n",
       "      <td>60</td>\n",
       "      <td>217946</td>\n",
       "      <td>0.346</td>\n",
       "      <td>0.913000</td>\n",
       "      <td>0.1390</td>\n",
       "      <td>0.000077</td>\n",
       "      <td>0.0934</td>\n",
       "      <td>0.116</td>\n",
       "      <td>-15.326</td>\n",
       "      <td>0.0321</td>\n",
       "      <td>136.168</td>\n",
       "      <td>0</td>\n",
       "      <td>4</td>\n",
       "      <td>Sad</td>\n",
       "    </tr>\n",
       "    <tr>\n",
       "      <th>3</th>\n",
       "      <td>99 Luftballons</td>\n",
       "      <td>99 Luftballons</td>\n",
       "      <td>Nena</td>\n",
       "      <td>6HA97v4wEGQ5TUClRM0XLc</td>\n",
       "      <td>1984-08-21</td>\n",
       "      <td>2</td>\n",
       "      <td>233000</td>\n",
       "      <td>0.466</td>\n",
       "      <td>0.089000</td>\n",
       "      <td>0.4380</td>\n",
       "      <td>0.000006</td>\n",
       "      <td>0.1130</td>\n",
       "      <td>0.587</td>\n",
       "      <td>-12.858</td>\n",
       "      <td>0.0608</td>\n",
       "      <td>193.100</td>\n",
       "      <td>4</td>\n",
       "      <td>4</td>\n",
       "      <td>Happy</td>\n",
       "    </tr>\n",
       "    <tr>\n",
       "      <th>4</th>\n",
       "      <td>A Boy Brushed Red Living In Black And White</td>\n",
       "      <td>They're Only Chasing Safety</td>\n",
       "      <td>Underoath</td>\n",
       "      <td>47IWLfIKOKhFnz1FUEUIkE</td>\n",
       "      <td>2004-01-01</td>\n",
       "      <td>60</td>\n",
       "      <td>268000</td>\n",
       "      <td>0.419</td>\n",
       "      <td>0.001710</td>\n",
       "      <td>0.9320</td>\n",
       "      <td>0.000000</td>\n",
       "      <td>0.1370</td>\n",
       "      <td>0.445</td>\n",
       "      <td>-3.604</td>\n",
       "      <td>0.1060</td>\n",
       "      <td>169.881</td>\n",
       "      <td>1</td>\n",
       "      <td>4</td>\n",
       "      <td>Energetic</td>\n",
       "    </tr>\n",
       "    <tr>\n",
       "      <th>5</th>\n",
       "      <td>A Burden to Bear</td>\n",
       "      <td>A Burden to Bear</td>\n",
       "      <td>Emmanuelle Rimbaud</td>\n",
       "      <td>67DOFCrkcQaLp5yhzF8Y8N</td>\n",
       "      <td>2020-07-31</td>\n",
       "      <td>27</td>\n",
       "      <td>129410</td>\n",
       "      <td>0.394</td>\n",
       "      <td>0.995000</td>\n",
       "      <td>0.0475</td>\n",
       "      <td>0.955000</td>\n",
       "      <td>0.1050</td>\n",
       "      <td>0.172</td>\n",
       "      <td>-26.432</td>\n",
       "      <td>0.0720</td>\n",
       "      <td>71.241</td>\n",
       "      <td>6</td>\n",
       "      <td>5</td>\n",
       "      <td>Calm</td>\n",
       "    </tr>\n",
       "    <tr>\n",
       "      <th>6</th>\n",
       "      <td>A La Plage</td>\n",
       "      <td>A La Plage</td>\n",
       "      <td>Ron Adelaar</td>\n",
       "      <td>79NmiFAgcXUIVDGfCWDdWF</td>\n",
       "      <td>2020-08-07</td>\n",
       "      <td>29</td>\n",
       "      <td>141888</td>\n",
       "      <td>0.504</td>\n",
       "      <td>0.994000</td>\n",
       "      <td>0.0584</td>\n",
       "      <td>0.956000</td>\n",
       "      <td>0.1150</td>\n",
       "      <td>0.553</td>\n",
       "      <td>-20.461</td>\n",
       "      <td>0.0516</td>\n",
       "      <td>134.209</td>\n",
       "      <td>5</td>\n",
       "      <td>4</td>\n",
       "      <td>Calm</td>\n",
       "    </tr>\n",
       "    <tr>\n",
       "      <th>7</th>\n",
       "      <td>A Little Less Conversation - JXL Radio Edit Remix</td>\n",
       "      <td>Elvis 75 - Good Rockin' Tonight</td>\n",
       "      <td>Elvis Presley</td>\n",
       "      <td>4l2hnfUx0esSbITQa7iJt0</td>\n",
       "      <td>2009-12-28</td>\n",
       "      <td>1</td>\n",
       "      <td>211173</td>\n",
       "      <td>0.586</td>\n",
       "      <td>0.000155</td>\n",
       "      <td>0.9350</td>\n",
       "      <td>0.277000</td>\n",
       "      <td>0.1590</td>\n",
       "      <td>0.580</td>\n",
       "      <td>-9.386</td>\n",
       "      <td>0.0482</td>\n",
       "      <td>114.997</td>\n",
       "      <td>4</td>\n",
       "      <td>4</td>\n",
       "      <td>Happy</td>\n",
       "    </tr>\n",
       "    <tr>\n",
       "      <th>8</th>\n",
       "      <td>A Place for My Head</td>\n",
       "      <td>Hybrid Theory (Bonus Edition)</td>\n",
       "      <td>Linkin Park</td>\n",
       "      <td>5rAxhWcgFng3s570sGO2F8</td>\n",
       "      <td>2000-10-24</td>\n",
       "      <td>68</td>\n",
       "      <td>184640</td>\n",
       "      <td>0.603</td>\n",
       "      <td>0.014400</td>\n",
       "      <td>0.9080</td>\n",
       "      <td>0.000000</td>\n",
       "      <td>0.6710</td>\n",
       "      <td>0.457</td>\n",
       "      <td>-5.254</td>\n",
       "      <td>0.1840</td>\n",
       "      <td>133.063</td>\n",
       "      <td>11</td>\n",
       "      <td>4</td>\n",
       "      <td>Energetic</td>\n",
       "    </tr>\n",
       "    <tr>\n",
       "      <th>9</th>\n",
       "      <td>ATTACK</td>\n",
       "      <td>A Beautiful Lie + 30 Seconds To Mars</td>\n",
       "      <td>Thirty Seconds To Mars</td>\n",
       "      <td>6QxTWEvzcJljVZaeTzuHF1</td>\n",
       "      <td>2007-05-15</td>\n",
       "      <td>0</td>\n",
       "      <td>189200</td>\n",
       "      <td>0.331</td>\n",
       "      <td>0.003440</td>\n",
       "      <td>0.8760</td>\n",
       "      <td>0.000835</td>\n",
       "      <td>0.7320</td>\n",
       "      <td>0.299</td>\n",
       "      <td>-1.894</td>\n",
       "      <td>0.0603</td>\n",
       "      <td>175.009</td>\n",
       "      <td>5</td>\n",
       "      <td>4</td>\n",
       "      <td>Energetic</td>\n",
       "    </tr>\n",
       "  </tbody>\n",
       "</table>\n",
       "</div>"
      ],
      "text/plain": [
       "                                                name  \\\n",
       "0                                               1999   \n",
       "1                                                 23   \n",
       "2                                           9 Crimes   \n",
       "3                                     99 Luftballons   \n",
       "4        A Boy Brushed Red Living In Black And White   \n",
       "5                                   A Burden to Bear   \n",
       "6                                         A La Plage   \n",
       "7  A Little Less Conversation - JXL Radio Edit Remix   \n",
       "8                                A Place for My Head   \n",
       "9                                             ATTACK   \n",
       "\n",
       "                                  album                  artist  \\\n",
       "0                                  1999                  Prince   \n",
       "1                                    23          Blonde Redhead   \n",
       "2                                     9             Damien Rice   \n",
       "3                        99 Luftballons                    Nena   \n",
       "4           They're Only Chasing Safety               Underoath   \n",
       "5                      A Burden to Bear      Emmanuelle Rimbaud   \n",
       "6                            A La Plage             Ron Adelaar   \n",
       "7       Elvis 75 - Good Rockin' Tonight           Elvis Presley   \n",
       "8         Hybrid Theory (Bonus Edition)             Linkin Park   \n",
       "9  A Beautiful Lie + 30 Seconds To Mars  Thirty Seconds To Mars   \n",
       "\n",
       "                       id release_date  popularity  length  danceability  \\\n",
       "0  2H7PHVdQ3mXqEHXcvclTB0   1982-10-27          68  379266         0.866   \n",
       "1  4HIwL9ii9CcXpTOTzMq0MP   2007-04-16          43  318800         0.381   \n",
       "2  5GZEeowhvSieFDiR8fQ2im   2006-11-06          60  217946         0.346   \n",
       "3  6HA97v4wEGQ5TUClRM0XLc   1984-08-21           2  233000         0.466   \n",
       "4  47IWLfIKOKhFnz1FUEUIkE   2004-01-01          60  268000         0.419   \n",
       "5  67DOFCrkcQaLp5yhzF8Y8N   2020-07-31          27  129410         0.394   \n",
       "6  79NmiFAgcXUIVDGfCWDdWF   2020-08-07          29  141888         0.504   \n",
       "7  4l2hnfUx0esSbITQa7iJt0   2009-12-28           1  211173         0.586   \n",
       "8  5rAxhWcgFng3s570sGO2F8   2000-10-24          68  184640         0.603   \n",
       "9  6QxTWEvzcJljVZaeTzuHF1   2007-05-15           0  189200         0.331   \n",
       "\n",
       "   acousticness  energy  instrumentalness  liveness  valence  loudness  \\\n",
       "0      0.137000  0.7300          0.000000    0.0843    0.625    -8.201   \n",
       "1      0.018900  0.8320          0.196000    0.1530    0.166    -5.069   \n",
       "2      0.913000  0.1390          0.000077    0.0934    0.116   -15.326   \n",
       "3      0.089000  0.4380          0.000006    0.1130    0.587   -12.858   \n",
       "4      0.001710  0.9320          0.000000    0.1370    0.445    -3.604   \n",
       "5      0.995000  0.0475          0.955000    0.1050    0.172   -26.432   \n",
       "6      0.994000  0.0584          0.956000    0.1150    0.553   -20.461   \n",
       "7      0.000155  0.9350          0.277000    0.1590    0.580    -9.386   \n",
       "8      0.014400  0.9080          0.000000    0.6710    0.457    -5.254   \n",
       "9      0.003440  0.8760          0.000835    0.7320    0.299    -1.894   \n",
       "\n",
       "   speechiness    tempo  key  time_signature       mood  \n",
       "0       0.0767  118.523    5               4      Happy  \n",
       "1       0.0492  120.255    8               4        Sad  \n",
       "2       0.0321  136.168    0               4        Sad  \n",
       "3       0.0608  193.100    4               4      Happy  \n",
       "4       0.1060  169.881    1               4  Energetic  \n",
       "5       0.0720   71.241    6               5       Calm  \n",
       "6       0.0516  134.209    5               4       Calm  \n",
       "7       0.0482  114.997    4               4      Happy  \n",
       "8       0.1840  133.063   11               4  Energetic  \n",
       "9       0.0603  175.009    5               4  Energetic  "
      ]
     },
     "execution_count": 3,
     "metadata": {},
     "output_type": "execute_result"
    }
   ],
   "source": [
    "df = pd.read_csv(\"sample_dataset.csv\")\n",
    "df.head(10)"
   ]
  },
  {
   "cell_type": "code",
   "execution_count": 4,
   "id": "7f4891e1",
   "metadata": {},
   "outputs": [],
   "source": [
    "col_features = df.columns[6:-3]\n",
    "X= MinMaxScaler().fit_transform(df[col_features])\n",
    "X2 = np.array(df[col_features])\n",
    "Y_labels = df['mood']"
   ]
  },
  {
   "cell_type": "code",
   "execution_count": 31,
   "id": "5345fa2d",
   "metadata": {},
   "outputs": [],
   "source": [
    "#Encodethe categories\n",
    "encoder = LabelEncoder()\n",
    "encoder.fit(Y_labels)\n",
    "encoded_y = encoder.transform(Y_labels)\n",
    "\n",
    "\n",
    "#Convert to  dummy (Not necessary in my case)\n",
    "dummy_y = np_utils.to_categorical(encoded_y)\n",
    "\n",
    "X_train,X_test,Y_train,Y_test = train_test_split(X,dummy_y,test_size=0.2,random_state=15)"
   ]
  },
  {
   "cell_type": "code",
   "execution_count": 6,
   "id": "c0c027fb",
   "metadata": {},
   "outputs": [],
   "source": [
    "mood_list = ['calm','energetic','happy', 'sad']\n",
    "number_of_classes = 4;"
   ]
  },
  {
   "cell_type": "code",
   "execution_count": 7,
   "id": "34e048f4",
   "metadata": {},
   "outputs": [],
   "source": [
    "def initialize_nn():\n",
    "    #Create the model\n",
    "    model = Sequential()\n",
    "    #Add 1 layer with 8 nodes,input of 4 dim with relu function\n",
    "    model.add(Dense(8,input_dim=10,activation='relu'))\n",
    "    #Add 1 layer with output 3 and softmax function\n",
    "    model.add(Dense(4,activation='sigmoid'))\n",
    "    #Compile the model using sigmoid loss function and adam optim\n",
    "    model.compile(loss='categorical_crossentropy',optimizer='adam',\n",
    "                 metrics=['accuracy'])\n",
    "    return model"
   ]
  },
  {
   "cell_type": "code",
   "execution_count": 32,
   "id": "f7f1e64f",
   "metadata": {},
   "outputs": [],
   "source": [
    "model = initialize_nn()\n",
    "history = model.fit(X_train, Y_train,epochs=300,batch_size=200,verbose=0, validation_split=0.2)"
   ]
  },
  {
   "cell_type": "code",
   "execution_count": 33,
   "id": "dac2eba0",
   "metadata": {},
   "outputs": [
    {
     "data": {
      "image/png": "[encoded data removed]",
      "text/plain": [
       "<Figure size 432x288 with 1 Axes>"
      ]
     },
     "metadata": {
      "needs_background": "light"
     },
     "output_type": "display_data"
    }
   ],
   "source": [
    "plt.plot(history.history['loss'], label='Training Loss)')\n",
    "plt.plot(history.history['val_loss'], label='Validation Loss')\n",
    "plt.title('Traning vs Validation')\n",
    "plt.ylabel('MAE value')\n",
    "plt.xlabel('No. epoch')\n",
    "plt.legend(loc=\"upper left\")\n",
    "plt.show()"
   ]
  },
  {
   "cell_type": "code",
   "execution_count": 34,
   "id": "ba0471f7",
   "metadata": {},
   "outputs": [
    {
     "name": "stdout",
     "output_type": "stream",
     "text": [
      "5/5 - 0s - loss: 0.5306 - accuracy: 0.7899\n"
     ]
    },
    {
     "data": {
      "text/plain": [
       "[0.530611515045166, 0.7898550629615784]"
      ]
     },
     "execution_count": 34,
     "metadata": {},
     "output_type": "execute_result"
    }
   ],
   "source": [
    "model.evaluate(X_test, Y_test, verbose=2)"
   ]
  },
  {
   "cell_type": "code",
   "execution_count": 35,
   "id": "3fe1a664",
   "metadata": {},
   "outputs": [],
   "source": [
    "y_preds = model.predict(X_test)\n",
    "y_preds = np.argmax(y_preds, axis=1)\n",
    "Y_test = np.argmax(Y_test, axis=1)"
   ]
  },
  {
   "cell_type": "code",
   "execution_count": 36,
   "id": "c5221317",
   "metadata": {},
   "outputs": [
    {
     "data": {
      "text/plain": [
       "array([2, 0, 0, 1, 1, 2, 0, 1, 2, 1, 2, 2, 1, 0, 0, 3, 3, 1, 3, 2, 0, 0,\n",
       "       3, 0, 1, 3, 3, 3, 3, 2, 1, 1, 0, 1, 1, 0, 2, 1, 0, 3, 1, 0, 0, 3,\n",
       "       3, 3, 0, 2, 1, 0, 2, 1, 3, 3, 1, 3, 1, 1, 1, 1, 1, 0, 2, 0, 3, 1,\n",
       "       2, 2, 0, 3, 1, 3, 3, 0, 0, 3, 3, 3, 1, 0, 3, 2, 1, 1, 0, 1, 3, 3,\n",
       "       0, 1, 1, 0, 2, 3, 3, 1, 1, 0, 3, 1, 2, 0, 0, 3, 3, 2, 2, 0, 1, 2,\n",
       "       3, 3, 0, 0, 2, 1, 3, 3, 3, 0, 3, 0, 2, 0, 1, 0, 0, 0, 0, 1, 3, 3,\n",
       "       1, 1, 1, 3, 3, 2])"
      ]
     },
     "execution_count": 36,
     "metadata": {},
     "output_type": "execute_result"
    }
   ],
   "source": [
    "y_preds"
   ]
  },
  {
   "cell_type": "code",
   "execution_count": 37,
   "id": "7c709019",
   "metadata": {},
   "outputs": [
    {
     "data": {
      "text/plain": [
       "array([1, 0, 0, 1, 1, 2, 0, 2, 2, 3, 1, 2, 1, 0, 0, 3, 3, 1, 3, 2, 0, 0,\n",
       "       3, 0, 1, 0, 3, 3, 3, 2, 1, 1, 0, 1, 3, 3, 2, 1, 0, 3, 1, 0, 0, 0,\n",
       "       3, 3, 3, 3, 1, 0, 1, 2, 2, 0, 2, 3, 1, 2, 1, 2, 1, 0, 3, 0, 3, 1,\n",
       "       2, 2, 0, 3, 1, 0, 3, 0, 0, 3, 3, 3, 1, 0, 3, 2, 2, 1, 0, 1, 3, 3,\n",
       "       0, 2, 1, 0, 1, 3, 3, 2, 2, 0, 3, 1, 2, 0, 3, 3, 3, 3, 2, 0, 2, 2,\n",
       "       2, 3, 0, 0, 2, 1, 2, 3, 3, 0, 3, 0, 2, 0, 1, 0, 0, 0, 0, 1, 3, 3,\n",
       "       1, 1, 1, 3, 3, 2])"
      ]
     },
     "execution_count": 37,
     "metadata": {},
     "output_type": "execute_result"
    }
   ],
   "source": [
    "Y_test"
   ]
  },
  {
   "cell_type": "code",
   "execution_count": 38,
   "id": "04771104",
   "metadata": {},
   "outputs": [
    {
     "data": {
      "image/png": "[encoded data removed]",
      "text/plain": [
       "<Figure size 432x288 with 2 Axes>"
      ]
     },
     "metadata": {
      "needs_background": "light"
     },
     "output_type": "display_data"
    },
    {
     "name": "stdout",
     "output_type": "stream",
     "text": [
      "Accuracy Score 0.7898550724637681\n"
     ]
    }
   ],
   "source": [
    "cm = confusion_matrix(Y_test,y_preds)\n",
    "ax = plt.subplot()\n",
    "sns.heatmap(cm,annot=True,ax=ax)\n",
    "\n",
    "labels = mood_list\n",
    "ax.set_xlabel('Predicted labels')\n",
    "ax.set_ylabel('True labels')\n",
    "ax.set_title('Confusion Matrix')\n",
    "ax.xaxis.set_ticklabels(labels)\n",
    "ax.yaxis.set_ticklabels(labels)\n",
    "plt.show()\n",
    "\n",
    "print(\"Accuracy Score\",accuracy_score(Y_test,y_preds))"
   ]
  },
  {
   "cell_type": "code",
   "execution_count": 39,
   "id": "6261d1c0",
   "metadata": {},
   "outputs": [],
   "source": [
    "model.save(\"new_classifier.h5\")"
   ]
  },
  {
   "cell_type": "code",
   "execution_count": 40,
   "id": "8ac6c229",
   "metadata": {},
   "outputs": [],
   "source": [
    "new_model = keras.models.load_model(\"new_classifier.h5\")"
   ]
  },
  {
   "cell_type": "code",
   "execution_count": 16,
   "id": "4a4e8132",
   "metadata": {},
   "outputs": [],
   "source": [
    "client_id='50b04075d9a54b24aafd6f18d37a5061'\n",
    "client_secret='31b0c647b38449699e7919c375aeb683'\n",
    "redirect_uri='http://localhost:8888/callback'\n",
    "username = 'uascr6n5lqh9kfkrok5dxtynz'\n",
    "scope = 'playlist-modify-public'"
   ]
  },
  {
   "cell_type": "code",
   "execution_count": 17,
   "id": "c03fabf2",
   "metadata": {},
   "outputs": [],
   "source": [
    "manager = SpotifyClientCredentials(client_id,client_secret)\n",
    "spotify = spotipy.Spotify(client_credentials_manager=manager)"
   ]
  },
  {
   "cell_type": "code",
   "execution_count": 18,
   "id": "717360e8",
   "metadata": {},
   "outputs": [],
   "source": [
    "def getSong(uri):\n",
    "    meta = spotify.track(uri)\n",
    "    features = spotify.audio_features(uri)\n",
    "    \n",
    "    name = meta['name']\n",
    "    album = meta['album']['name']\n",
    "    artist = meta['album']['artists'][0]['name']\n",
    "    release_date = meta['album']['release_date']\n",
    "    length = meta['duration_ms']\n",
    "    popularity = meta['popularity']\n",
    "    ids =  meta['id']\n",
    "    \n",
    "    acousticness = features[0]['acousticness']\n",
    "    danceability = features[0]['danceability']\n",
    "    energy = features[0]['energy']\n",
    "    instrumentalness = features[0]['instrumentalness']\n",
    "    liveness = features[0]['liveness']\n",
    "    valence = features[0]['valence']\n",
    "    loudness = features[0]['loudness']\n",
    "    speechiness = features[0]['speechiness']\n",
    "    tempo = features[0]['tempo']\n",
    "    key = features[0]['key']\n",
    "    time_signature = features[0]['time_signature']\n",
    "    \n",
    "    track = [name, album, artist, ids, release_date, popularity, length, danceability, acousticness,\n",
    "            energy, instrumentalness, liveness, valence, loudness, speechiness, tempo, key, time_signature]\n",
    "    columns = ['name','album','artist','id','release_date','popularity','length','danceability','acousticness','energy','instrumentalness',\n",
    "                'liveness','valence','loudness','speechiness','tempo','key','time_signature']\n",
    "    return track,columns"
   ]
  },
  {
   "cell_type": "code",
   "execution_count": 19,
   "id": "e4dee54d",
   "metadata": {},
   "outputs": [],
   "source": [
    "def predict_mood(id_song):\n",
    "    #Join the model and the scaler in a Pipeline\n",
    "    pipe = Pipeline([('minmaxscaler',MinMaxScaler()),('keras', model)])\n",
    "    #Fit the Pipeline\n",
    "    pipe.fit(X_train, Y_train)\n",
    "\n",
    "    #Obtain the features of the song\n",
    "    preds = getSong(id_song)\n",
    "    print(\"Obtained features: \", preds)\n",
    "    #Pre-process the features to input the Model\n",
    "    preds_features = np.array(preds[0][6:-2]).reshape(-1,1).T\n",
    "\n",
    "    #Predict the features of the song\n",
    "    results = pipe.predict(preds_features)\n",
    "    \n",
    "    print(results)\n",
    "    results = np.argmax(results, axis=1)\n",
    "    print(results)\n",
    "\n",
    "    #mood = np.array(target['mood'][target['encode']==int(results)])\n",
    "    mood = mood_list[int(results)]\n",
    "    name_song = preds[0][0]\n",
    "    artist = preds[0][2]\n",
    "\n",
    "    return print(\"{0} by {1} is a {2} song\".format(name_song,artist,mood))\n",
    "    #print(f\"{name_song} by {artist} is a {mood[0].upper()} song\")"
   ]
  },
  {
   "cell_type": "code",
   "execution_count": 45,
   "id": "655b8d0a",
   "metadata": {},
   "outputs": [],
   "source": [
    "def predict_mood_better(id_song):\n",
    "    #Obtain the features of the song\n",
    "    preds = getSong(id_song)\n",
    "    print(\"Obtained features: \", preds)\n",
    "    #Pre-process the features to input the Model\n",
    "    preds_features = np.array(preds[0][6:-2]).reshape(-1,1).T\n",
    "    print(preds_features)\n",
    "\n",
    "    #Predict the features of the song\n",
    "    results = model.predict(preds_features)\n",
    "    \n",
    "    print(results)\n",
    "    results = np.argmax(results, axis=1)\n",
    "    print(results)\n",
    "    \n",
    "    mood = mood_list[int(results)]\n",
    "    name_song = preds[0][0]\n",
    "    artist = preds[0][2]\n",
    "\n",
    "    print(\"{0} by {1} is a {2} song\".format(name_song,artist,mood))"
   ]
  },
  {
   "cell_type": "code",
   "execution_count": 46,
   "id": "8797474d",
   "metadata": {},
   "outputs": [
    {
     "name": "stdout",
     "output_type": "stream",
     "text": [
      "Obtained features:  (['Hurt', 'American IV: The Man Comes Around', 'Johnny Cash', '28cnXtME493VX9NOw9cIUh', '2002-01-01', 73, 216533, 0.534, 0.649, 0.392, 0.000227, 0.0948, 0.163, -7.636, 0.0267, 90.379, 9, 4], ['name', 'album', 'artist', 'id', 'release_date', 'popularity', 'length', 'danceability', 'acousticness', 'energy', 'instrumentalness', 'liveness', 'valence', 'loudness', 'speechiness', 'tempo', 'key', 'time_signature'])\n",
      "[[ 2.16533e+05  5.34000e-01  6.49000e-01  3.92000e-01  2.27000e-04\n",
      "   9.48000e-02  1.63000e-01 -7.63600e+00  2.67000e-02  9.03790e+01]]\n",
      "[[0. 0. 0. 1.]]\n",
      "[3]\n",
      "Hurt by Johnny Cash is a sad song\n",
      "Obtained features:  (['Blinding Lights', 'After Hours', 'The Weeknd', '0VjIjW4GlUZAMYd2vXMi3b', '2020-03-20', 91, 200040, 0.514, 0.00146, 0.73, 9.54e-05, 0.0897, 0.334, -5.934, 0.0598, 171.005, 1, 4], ['name', 'album', 'artist', 'id', 'release_date', 'popularity', 'length', 'danceability', 'acousticness', 'energy', 'instrumentalness', 'liveness', 'valence', 'loudness', 'speechiness', 'tempo', 'key', 'time_signature'])\n",
      "[[ 2.00040e+05  5.14000e-01  1.46000e-03  7.30000e-01  9.54000e-05\n",
      "   8.97000e-02  3.34000e-01 -5.93400e+00  5.98000e-02  1.71005e+02]]\n",
      "[[0. 0. 0. 1.]]\n",
      "[3]\n",
      "Blinding Lights by The Weeknd is a sad song\n",
      "Obtained features:  (['Happy - From \"Despicable Me 2\"', 'G I R L', 'Pharrell Williams', '60nZcImufyMA1MKQY3dcCH', '2014-03-03', 79, 232720, 0.647, 0.219, 0.822, 0, 0.0908, 0.962, -4.662, 0.183, 160.019, 5, 4], ['name', 'album', 'artist', 'id', 'release_date', 'popularity', 'length', 'danceability', 'acousticness', 'energy', 'instrumentalness', 'liveness', 'valence', 'loudness', 'speechiness', 'tempo', 'key', 'time_signature'])\n",
      "[[ 2.32720e+05  6.47000e-01  2.19000e-01  8.22000e-01  0.00000e+00\n",
      "   9.08000e-02  9.62000e-01 -4.66200e+00  1.83000e-01  1.60019e+02]]\n",
      "[[0. 0. 0. 1.]]\n",
      "[3]\n",
      "Happy - From \"Despicable Me 2\" by Pharrell Williams is a sad song\n",
      "Obtained features:  (['Gasoline', 'Disclaimer II', 'Seether', '4e7yuouxvWPbK1q2kVlgz8', '2004-01-01', 38, 168560, 0.478, 4.65e-05, 0.942, 0.0336, 0.061, 0.726, -2.71, 0.08, 173.515, 1, 4], ['name', 'album', 'artist', 'id', 'release_date', 'popularity', 'length', 'danceability', 'acousticness', 'energy', 'instrumentalness', 'liveness', 'valence', 'loudness', 'speechiness', 'tempo', 'key', 'time_signature'])\n",
      "[[ 1.68560e+05  4.78000e-01  4.65000e-05  9.42000e-01  3.36000e-02\n",
      "   6.10000e-02  7.26000e-01 -2.71000e+00  8.00000e-02  1.73515e+02]]\n",
      "[[0. 0. 0. 1.]]\n",
      "[3]\n",
      "Gasoline by Seether is a sad song\n"
     ]
    }
   ],
   "source": [
    "predict_mood_better('28cnXtME493VX9NOw9cIUh')\n",
    "predict_mood_better('0VjIjW4GlUZAMYd2vXMi3b')\n",
    "predict_mood_better('60nZcImufyMA1MKQY3dcCH')\n",
    "predict_mood_better('4e7yuouxvWPbK1q2kVlgz8')"
   ]
  },
  {
   "cell_type": "code",
   "execution_count": 44,
   "id": "f4c6c4ee",
   "metadata": {},
   "outputs": [
    {
     "name": "stdout",
     "output_type": "stream",
     "text": [
      "18/18 [==============================] - 0s 1ms/step - loss: 0.5185 - accuracy: 0.8011\n",
      "Obtained features:  (['Hurt', 'American IV: The Man Comes Around', 'Johnny Cash', '28cnXtME493VX9NOw9cIUh', '2002-01-01', 73, 216533, 0.534, 0.649, 0.392, 0.000227, 0.0948, 0.163, -7.636, 0.0267, 90.379, 9, 4], ['name', 'album', 'artist', 'id', 'release_date', 'popularity', 'length', 'danceability', 'acousticness', 'energy', 'instrumentalness', 'liveness', 'valence', 'loudness', 'speechiness', 'tempo', 'key', 'time_signature'])\n",
      "[[0. 0. 0. 1.]]\n",
      "[3]\n",
      "Hurt by Johnny Cash is a sad song\n",
      "18/18 [==============================] - 0s 1ms/step - loss: 0.5150 - accuracy: 0.8029\n",
      "Obtained features:  (['Blinding Lights', 'After Hours', 'The Weeknd', '0VjIjW4GlUZAMYd2vXMi3b', '2020-03-20', 91, 200040, 0.514, 0.00146, 0.73, 9.54e-05, 0.0897, 0.334, -5.934, 0.0598, 171.005, 1, 4], ['name', 'album', 'artist', 'id', 'release_date', 'popularity', 'length', 'danceability', 'acousticness', 'energy', 'instrumentalness', 'liveness', 'valence', 'loudness', 'speechiness', 'tempo', 'key', 'time_signature'])\n",
      "[[0. 0. 0. 1.]]\n",
      "[3]\n",
      "Blinding Lights by The Weeknd is a sad song\n",
      "18/18 [==============================] - 0s 1ms/step - loss: 0.5134 - accuracy: 0.8011\n",
      "Obtained features:  (['Happy - From \"Despicable Me 2\"', 'G I R L', 'Pharrell Williams', '60nZcImufyMA1MKQY3dcCH', '2014-03-03', 79, 232720, 0.647, 0.219, 0.822, 0, 0.0908, 0.962, -4.662, 0.183, 160.019, 5, 4], ['name', 'album', 'artist', 'id', 'release_date', 'popularity', 'length', 'danceability', 'acousticness', 'energy', 'instrumentalness', 'liveness', 'valence', 'loudness', 'speechiness', 'tempo', 'key', 'time_signature'])\n",
      "[[0. 0. 0. 1.]]\n",
      "[3]\n",
      "Happy - From \"Despicable Me 2\" by Pharrell Williams is a sad song\n",
      "18/18 [==============================] - 0s 1ms/step - loss: 0.5094 - accuracy: 0.8084\n",
      "Obtained features:  (['Gasoline', 'Disclaimer II', 'Seether', '4e7yuouxvWPbK1q2kVlgz8', '2004-01-01', 38, 168560, 0.478, 4.65e-05, 0.942, 0.0336, 0.061, 0.726, -2.71, 0.08, 173.515, 1, 4], ['name', 'album', 'artist', 'id', 'release_date', 'popularity', 'length', 'danceability', 'acousticness', 'energy', 'instrumentalness', 'liveness', 'valence', 'loudness', 'speechiness', 'tempo', 'key', 'time_signature'])\n",
      "[[0. 0. 0. 1.]]\n",
      "[3]\n",
      "Gasoline by Seether is a sad song\n"
     ]
    }
   ],
   "source": [
    "predict_mood('28cnXtME493VX9NOw9cIUh')\n",
    "predict_mood('0VjIjW4GlUZAMYd2vXMi3b')\n",
    "predict_mood('60nZcImufyMA1MKQY3dcCH')\n",
    "predict_mood('4e7yuouxvWPbK1q2kVlgz8')"
   ]
  }
 ],
 "metadata": {
  "kernelspec": {
   "display_name": "conda_python3",
   "language": "python",
   "name": "conda_python3"
  },
  "language_info": {
   "codemirror_mode": {
    "name": "ipython",
    "version": 3
   },
   "file_extension": ".py",
   "mimetype": "text/x-python",
   "name": "python",
   "nbconvert_exporter": "python",
   "pygments_lexer": "ipython3",
   "version": "3.6.13"
  }
 },
 "nbformat": 4,
 "nbformat_minor": 5
}
